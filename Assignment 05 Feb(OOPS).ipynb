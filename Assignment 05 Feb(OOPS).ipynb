{
 "cells": [
  {
   "cell_type": "markdown",
   "id": "6cc7a23b-bda0-4f56-9c4c-5c9a0b449c82",
   "metadata": {},
   "source": [
    "Q1. Explain Class and Object with respect to Object-Oriented Programming. Give a suitable example."
   ]
  },
  {
   "cell_type": "markdown",
   "id": "8b63efc9-0ed0-461c-9c1f-027a9441d082",
   "metadata": {},
   "source": [
    "Ans....In Object-Oriented Programming, a class is a blueprint or a template for creating objects, which are instances of the class. A class defines the properties and behaviors that an object will have. Properties are represented by variables, while behaviors are represented by methods.\n",
    "\n",
    "An object, on the other hand, is a specific instance of a class. It is created from the class blueprint and has its own set of values for the properties defined in the class. Objects can interact with each other and perform actions through their methods.\n",
    "\n",
    "Here is an example to illustrate the concept of classes and objects:\n",
    "\n",
    "\n",
    "\n",
    "\n",
    "\n",
    "\n"
   ]
  },
  {
   "cell_type": "code",
   "execution_count": 29,
   "id": "99e9ad76-8bab-4307-90d3-35b96d2e94a7",
   "metadata": {},
   "outputs": [],
   "source": [
    "class Person:\n",
    "    def __init__(self, name, age):\n",
    "        self.name = name\n",
    "        self.age = age\n",
    "        \n",
    "def say_hello(self):\n",
    "    return(\"Hello, my name is {self.name} and I'm {self.age} yaers old.\")\n",
    "        "
   ]
  },
  {
   "cell_type": "code",
   "execution_count": null,
   "id": "212f841e-a67c-4ed8-b8a8-dcdac62ad11b",
   "metadata": {},
   "outputs": [],
   "source": [
    "person1 = Person(\"Abhi\", 35)\n"
   ]
  },
  {
   "cell_type": "code",
   "execution_count": null,
   "id": "9d234bbc-cac9-4a9b-affc-41fe326f3ac4",
   "metadata": {},
   "outputs": [],
   "source": [
    "print(person1.say_hello())"
   ]
  },
  {
   "cell_type": "code",
   "execution_count": null,
   "id": "03d5109b-cc44-4b22-b71f-9aaef562d5de",
   "metadata": {},
   "outputs": [],
   "source": [
    "person1.say_hello()"
   ]
  },
  {
   "cell_type": "markdown",
   "id": "7bad7d13-1589-4666-b245-a0a539bd5198",
   "metadata": {},
   "source": [
    "Q2. Name the four pillars of OOPs."
   ]
  },
  {
   "cell_type": "markdown",
   "id": "3000b03f-4dbe-4260-b4a1-e44e7805640f",
   "metadata": {},
   "source": [
    "Ans....The four pillars of OOP are:\n",
    "    \n",
    "1. Encapsulation: It is the mechanism of hiding implementation details from the user and providing only the necessary information through an interface. This allows for better data security, as well as easier maintenance and modification of code.    \n",
    "\n",
    "2.  Inheritance: It is the mechanism of creating new classes by inheriting properties and methods of an exixting class. This allows for code reuse and help to avoid redundancy. \n",
    "\n",
    "3. Polymorphism: It is the ability of an object to take on many forms, depending on the context in which it is used. Polymorphism allows for greater flexibility and extensibility in code.\n",
    "\n",
    "4.  Abstraction: It is the mechanism of representing complex real_world objects and system as simpler, abstract models. Abstraction helps to manage complexity and allows for easier development, maintenance and modification of code."
   ]
  },
  {
   "cell_type": "markdown",
   "id": "01335aec-1729-45c0-9bd0-239f466be0ef",
   "metadata": {},
   "source": [
    "Q3. Explain why the __init__() function is used. Give a suitable example."
   ]
  },
  {
   "cell_type": "code",
   "execution_count": 1,
   "id": "11fdc788-8157-4916-a7ff-e5f3ac307d3d",
   "metadata": {},
   "outputs": [
    {
     "name": "stdout",
     "output_type": "stream",
     "text": [
      "Toyota\n",
      "Corolla\n",
      "2022\n",
      "The current speed of the Toyota Corolla is 30 mph.\n",
      "The current speed of the Toyota Corolla is 20 mph.\n"
     ]
    }
   ],
   "source": [
    "#Ans...The __init__() method is used to define the initial state of an object. It is responsible for setting up the object's attributes, which are essentially the object's data. By initializing the object's attributes in __init__(), we ensure that the object is in a valid state from the moment it is created.\n",
    "\n",
    "class Car:\n",
    "    def __init__(self, make, model, year):\n",
    "        self.make = make\n",
    "        self.model = model\n",
    "        self.year = year\n",
    "        self.current_speed = 0\n",
    "\n",
    "    def accelerate(self, speed_increase):\n",
    "        self.current_speed += speed_increase\n",
    "\n",
    "    def brake(self, speed_decrease):\n",
    "        self.current_speed -= speed_decrease\n",
    "\n",
    "    def display_speed(self):\n",
    "        print(f\"The current speed of the {self.make} {self.model} is {self.current_speed} mph.\")\n",
    "\n",
    "\n",
    "# Creating an instance of the Car class\n",
    "my_car = Car(\"Toyota\", \"Corolla\", 2022)\n",
    "\n",
    "# Accessing the attributes of the my_car object\n",
    "print(my_car.make)  # Output: Toyota\n",
    "print(my_car.model)  # Output: Corolla\n",
    "print(my_car.year)  # Output: 2022\n",
    "\n",
    "# Calling methods on the my_car object\n",
    "my_car.accelerate(30)\n",
    "my_car.display_speed()  # Output: The current speed of the Toyota Corolla is 30 mph.\n",
    "\n",
    "my_car.brake(10)\n",
    "my_car.display_speed()  # Output: The current speed of the Toyota Corolla is 20 mph.\n"
   ]
  },
  {
   "cell_type": "markdown",
   "id": "6d6af378-3f41-416c-b6c0-c3e2ecf83173",
   "metadata": {},
   "source": [
    "Q4. Why self is used in OOPs?"
   ]
  },
  {
   "cell_type": "markdown",
   "id": "e3acde10-76cc-438b-ab99-327c1b4ccd70",
   "metadata": {},
   "source": [
    "Ans: In object-oriented programming (OOP), self is a special keyword used to refer to the current instance of the class. It is used in methods to access the class's attributes and methods. Without self, the Python interpreter would not know which object's attributes and methods to access.\n",
    "\n",
    "The self keyword is not required in Python, but it is considered good practice to use it. It makes code more readable and easier to maintain.\n",
    "\n",
    "Here are some of the benefits of using self in OOPs:\n",
    "\n",
    "It makes code more readable and easier to understand.\n",
    "It helps to avoid name collisions between local variables and instance variables.\n",
    "It allows for more flexibility in the design of classes.\n",
    "It can improve performance by reducing the number of method calls.\n",
    "Overall, self is a powerful tool that can be used to improve the readability, maintainability, and performance of OOP code."
   ]
  },
  {
   "cell_type": "markdown",
   "id": "8ab12a20-e8f6-4b27-aa77-dffd7c4624a4",
   "metadata": {},
   "source": [
    "Q5. What is inheritance? Give an example for each type of inheritance."
   ]
  },
  {
   "cell_type": "markdown",
   "id": "1e6ffd86-5eb4-48ca-b9e8-0a646873dfe5",
   "metadata": {},
   "source": [
    "Ans: Inheritance is a fundamental concept in object-oriented programming (OOP) that allows classes to\n",
    "inherit attributes and methods from other classes. It enables code reuse and promotes the creation \n",
    "of hierarchical relationships between classes.\n",
    "\n",
    "Inheritance forms an \"is-a\" relationship, where a subclass (derived class) inherits \n",
    "the characteristics of a superclass (base class). The subclass can extend or modify the behavior of \n",
    "the superclass by adding new attributes or methods or by overriding existing ones."
   ]
  },
  {
   "cell_type": "markdown",
   "id": "31065ada-cf59-404c-a0f9-2d24c8764af4",
   "metadata": {},
   "source": [
    "#There are several types of inheritance, including:\n",
    "1. Single Inheritence:\n",
    "In single inheritance, a subclass inherits from a single superclass. \n",
    "It represents a one-to-one parent-child relationship.    "
   ]
  },
  {
   "cell_type": "code",
   "execution_count": 3,
   "id": "1f33db91-2c15-4e70-9e98-e7f1c23a8616",
   "metadata": {},
   "outputs": [
    {
     "name": "stdout",
     "output_type": "stream",
     "text": [
      "Breathing...\n",
      "Feeding babies...\n"
     ]
    }
   ],
   "source": [
    "class Animal:\n",
    "    def breathe(self):\n",
    "        print(\"Breathing...\")\n",
    "\n",
    "class Mammal(Animal):\n",
    "    def feed_babies(self):\n",
    "        print(\"Feeding babies...\")\n",
    "\n",
    "dog = Mammal()\n",
    "dog.breathe()         # Output: Breathing...\n",
    "dog.feed_babies()     # Output: Feeding babies...\n"
   ]
  },
  {
   "cell_type": "markdown",
   "id": "36853aea-d925-462e-87c1-3a12cf3a4bf3",
   "metadata": {},
   "source": [
    "2. Multiple Inheritence: Multiple inheritance allows a subclass to inherit from multiple superclasses. It enables code reuse from multiple sources."
   ]
  },
  {
   "cell_type": "code",
   "execution_count": 4,
   "id": "47b6df07-0f3c-42c4-9fdd-963da58d3383",
   "metadata": {},
   "outputs": [
    {
     "name": "stdout",
     "output_type": "stream",
     "text": [
      "Flying...\n",
      "Swimming...\n"
     ]
    }
   ],
   "source": [
    "class Bird:\n",
    "    def fly(self):\n",
    "        print(\"Flying...\")\n",
    "\n",
    "class CanSwim:\n",
    "    def swim(self):\n",
    "        print(\"Swimming...\")\n",
    "\n",
    "class Duck(Bird, CanSwim):\n",
    "    pass\n",
    "\n",
    "duck = Duck()\n",
    "duck.fly()    # Output: Flying...\n",
    "duck.swim()   # Output: Swimming...\n"
   ]
  },
  {
   "cell_type": "markdown",
   "id": "81e38d89-e5d7-4296-9aee-65278cfb90b1",
   "metadata": {},
   "source": [
    "3. Multilevel Inheritence: Multilevel inheritance involves a chain of inheritance, where a subclass inherits from another subclass. It creates a hierarchical structure of classes."
   ]
  },
  {
   "cell_type": "code",
   "execution_count": 5,
   "id": "6040d558-9ebb-457d-9e6a-a0277c1f4816",
   "metadata": {},
   "outputs": [
    {
     "name": "stdout",
     "output_type": "stream",
     "text": [
      "Moving...\n",
      "Speeding up...\n",
      "Racing...\n"
     ]
    }
   ],
   "source": [
    "class Vehicle:\n",
    "    def move(self):\n",
    "        print(\"Moving...\")\n",
    "\n",
    "class Car(Vehicle):\n",
    "    def speed(self):\n",
    "        print(\"Speeding up...\")\n",
    "\n",
    "class SportsCar(Car):\n",
    "    def race(self):\n",
    "        print(\"Racing...\")\n",
    "\n",
    "ferrari = SportsCar()\n",
    "ferrari.move()     # Output: Moving...\n",
    "ferrari.speed()    # Output: Speeding up...\n",
    "ferrari.race()     # Output: Racing...\n"
   ]
  },
  {
   "cell_type": "markdown",
   "id": "57c7f457-5821-4936-af63-f7184372396f",
   "metadata": {},
   "source": [
    "\n",
    "4. Hierarchical inheritance involves multiple subclasses inheriting from a single superclass. It allows for specialization and diversification."
   ]
  },
  {
   "cell_type": "code",
   "execution_count": 6,
   "id": "edf19e7c-721c-4967-b221-123b59dd848b",
   "metadata": {},
   "outputs": [
    {
     "name": "stdout",
     "output_type": "stream",
     "text": [
      "Drawing...\n",
      "Calculating area of the circle...\n",
      "Drawing...\n",
      "Calculating area of the square...\n"
     ]
    }
   ],
   "source": [
    "class Shape:\n",
    "    def draw(self):\n",
    "        print(\"Drawing...\")\n",
    "\n",
    "class Circle(Shape):\n",
    "    def calculate_area(self):\n",
    "        print(\"Calculating area of the circle...\")\n",
    "\n",
    "class Square(Shape):\n",
    "    def calculate_area(self):\n",
    "        print(\"Calculating area of the square...\")\n",
    "\n",
    "circle = Circle()\n",
    "circle.draw()             # Output: Drawing...\n",
    "circle.calculate_area()   # Output: Calculating area of the circle...\n",
    "\n",
    "square = Square()\n",
    "square.draw()             # Output: Drawing...\n",
    "square.calculate_area()   # Output: Calculating area of the square...\n"
   ]
  },
  {
   "cell_type": "code",
   "execution_count": null,
   "id": "ad982fdc-5cc1-4c56-a5e2-bef1c26930c7",
   "metadata": {},
   "outputs": [],
   "source": []
  }
 ],
 "metadata": {
  "kernelspec": {
   "display_name": "Python 3 (ipykernel)",
   "language": "python",
   "name": "python3"
  },
  "language_info": {
   "codemirror_mode": {
    "name": "ipython",
    "version": 3
   },
   "file_extension": ".py",
   "mimetype": "text/x-python",
   "name": "python",
   "nbconvert_exporter": "python",
   "pygments_lexer": "ipython3",
   "version": "3.10.6"
  }
 },
 "nbformat": 4,
 "nbformat_minor": 5
}
